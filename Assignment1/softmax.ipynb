{
 "cells": [
  {
   "cell_type": "markdown",
   "metadata": {},
   "source": [
    "# Softmax exercise\n",
    "\n",
    "*Complete and hand in this completed worksheet (including its outputs and any supporting code outside of the worksheet) with your assignment submission. For more details see the assignment.pdf*\n",
    "\n",
    "This exercise is analogous to the SVM exercise. You will:\n",
    "\n",
    "- implement a fully-vectorized **loss function** for the Softmax classifier\n",
    "- implement the fully-vectorized expression for its **analytic gradient**\n",
    "- **check your implementation** with numerical gradient\n",
    "- use a validation set to **tune the learning rate and regularization** strength\n",
    "- **optimize** the loss function with **SGD**\n",
    "- **visualize** the final learned weights\n"
   ]
  },
  {
   "cell_type": "code",
   "execution_count": 227,
   "metadata": {
    "collapsed": false
   },
   "outputs": [
    {
     "name": "stdout",
     "output_type": "stream",
     "text": [
      "The autoreload extension is already loaded. To reload it, use:\n",
      "  %reload_ext autoreload\n"
     ]
    }
   ],
   "source": [
    "import random\n",
    "import numpy as np\n",
    "from cs231n.data_utils import load_CIFAR10\n",
    "import matplotlib.pyplot as plt\n",
    "%matplotlib inline\n",
    "plt.rcParams['figure.figsize'] = (10.0, 8.0) # set default size of plots\n",
    "plt.rcParams['image.interpolation'] = 'nearest'\n",
    "plt.rcParams['image.cmap'] = 'gray'\n",
    "\n",
    "# for auto-reloading extenrnal modules\n",
    "# see http://stackoverflow.com/questions/1907993/autoreload-of-modules-in-ipython\n",
    "%load_ext autoreload\n",
    "%autoreload 2"
   ]
  },
  {
   "cell_type": "code",
   "execution_count": 228,
   "metadata": {
    "collapsed": false
   },
   "outputs": [
    {
     "name": "stdout",
     "output_type": "stream",
     "text": [
      "Train data shape:  (49000, 3073)\n",
      "Train labels shape:  (49000,)\n",
      "Validation data shape:  (1000, 3073)\n",
      "Validation labels shape:  (1000,)\n",
      "Test data shape:  (1000, 3073)\n",
      "Test labels shape:  (1000,)\n",
      "dev data shape:  (500, 3073)\n",
      "dev labels shape:  (500,)\n"
     ]
    }
   ],
   "source": [
    "def get_CIFAR10_data(num_training=49000, num_validation=1000, num_test=1000, num_dev=500):\n",
    "  \"\"\"\n",
    "  Load the CIFAR-10 dataset from disk and perform preprocessing to prepare\n",
    "  it for the linear classifier. These are the same steps as we used for the\n",
    "  SVM, but condensed to a single function.  \n",
    "  \"\"\"\n",
    "  # Load the raw CIFAR-10 data\n",
    "  cifar10_dir = 'cs231n/datasets/cifar-10-batches-py'\n",
    "  X_train, y_train, X_test, y_test = load_CIFAR10(cifar10_dir)\n",
    "  \n",
    "  # subsample the data\n",
    "  mask = range(num_training, num_training + num_validation)\n",
    "  X_val = X_train[mask]\n",
    "  y_val = y_train[mask]\n",
    "  mask = range(num_training)\n",
    "  X_train = X_train[mask]\n",
    "  y_train = y_train[mask]\n",
    "  mask = range(num_test)\n",
    "  X_test = X_test[mask]\n",
    "  y_test = y_test[mask]\n",
    "  mask = np.random.choice(num_training, num_dev, replace=False)\n",
    "  X_dev = X_train[mask]\n",
    "  y_dev = y_train[mask]\n",
    "  \n",
    "  # Preprocessing: reshape the image data into rows\n",
    "  X_train = np.reshape(X_train, (X_train.shape[0], -1))\n",
    "  X_val = np.reshape(X_val, (X_val.shape[0], -1))\n",
    "  X_test = np.reshape(X_test, (X_test.shape[0], -1))\n",
    "  X_dev = np.reshape(X_dev, (X_dev.shape[0], -1))\n",
    "  \n",
    "  # Normalize the data: subtract the mean image\n",
    "  mean_image = np.mean(X_train, axis = 0)\n",
    "  X_train -= mean_image\n",
    "  X_val -= mean_image\n",
    "  X_test -= mean_image\n",
    "  X_dev -= mean_image\n",
    "  \n",
    "  # add bias dimension and transform into columns\n",
    "  X_train = np.hstack([X_train, np.ones((X_train.shape[0], 1))])\n",
    "  X_val = np.hstack([X_val, np.ones((X_val.shape[0], 1))])\n",
    "  X_test = np.hstack([X_test, np.ones((X_test.shape[0], 1))])\n",
    "  X_dev = np.hstack([X_dev, np.ones((X_dev.shape[0], 1))])\n",
    "  \n",
    "  return X_train, y_train, X_val, y_val, X_test, y_test, X_dev, y_dev\n",
    "\n",
    "\n",
    "# Invoke the above function to get our data.\n",
    "X_train, y_train, X_val, y_val, X_test, y_test, X_dev, y_dev = get_CIFAR10_data()\n",
    "print 'Train data shape: ', X_train.shape\n",
    "print 'Train labels shape: ', y_train.shape\n",
    "print 'Validation data shape: ', X_val.shape\n",
    "print 'Validation labels shape: ', y_val.shape\n",
    "print 'Test data shape: ', X_test.shape\n",
    "print 'Test labels shape: ', y_test.shape\n",
    "print 'dev data shape: ', X_dev.shape\n",
    "print 'dev labels shape: ', y_dev.shape"
   ]
  },
  {
   "cell_type": "markdown",
   "metadata": {},
   "source": [
    "## Softmax Classifier\n",
    "\n",
    "Your code for this section will all be written inside **cs231n/classifiers/softmax.py**. \n"
   ]
  },
  {
   "cell_type": "code",
   "execution_count": 229,
   "metadata": {
    "collapsed": false
   },
   "outputs": [
    {
     "name": "stdout",
     "output_type": "stream",
     "text": [
      "loss: 2.343437\n",
      "sanity check: 2.302585\n"
     ]
    }
   ],
   "source": [
    "# First implement the naive softmax loss function with nested loops.\n",
    "# Open the file cs231n/classifiers/softmax.py and implement the\n",
    "# softmax_loss_naive function.\n",
    "\n",
    "from cs231n.classifiers.softmax import softmax_loss_naive\n",
    "import time\n",
    "\n",
    "# Generate a random softmax weight matrix and use it to compute the loss.\n",
    "W = np.random.randn(3073, 10) * 0.0001\n",
    "loss, grad = softmax_loss_naive(W, X_dev, y_dev, 0.0)\n",
    "\n",
    "# As a rough sanity check, our loss should be something close to -log(0.1).\n",
    "print 'loss: %f' % loss\n",
    "print 'sanity check: %f' % (-np.log(0.1))"
   ]
  },
  {
   "cell_type": "markdown",
   "metadata": {},
   "source": [
    "## Inline Question 1:\n",
    "Why do we expect our loss to be close to -log(0.1)? Explain briefly.**\n",
    "\n",
    "**Your answer:** *Fill this in*\n"
   ]
  },
  {
   "cell_type": "code",
   "execution_count": 230,
   "metadata": {
    "collapsed": false
   },
   "outputs": [
    {
     "name": "stdout",
     "output_type": "stream",
     "text": [
      "numerical: 1.476663 analytic: 1.476663, relative error: 5.822736e-10\n",
      "numerical: -3.305999 analytic: -3.305999, relative error: 1.107404e-08\n",
      "numerical: 1.497176 analytic: 1.497176, relative error: 4.766309e-09\n",
      "numerical: -1.599777 analytic: -1.599777, relative error: 1.671050e-09\n",
      "numerical: -2.935894 analytic: -2.935894, relative error: 1.170893e-08\n",
      "numerical: 1.198757 analytic: 1.198757, relative error: 2.737274e-08\n",
      "numerical: -2.790955 analytic: -2.790955, relative error: 1.751367e-08\n",
      "numerical: 3.093565 analytic: 3.093565, relative error: 1.878908e-08\n",
      "numerical: 2.070234 analytic: 2.070234, relative error: 1.713771e-09\n",
      "numerical: 2.295359 analytic: 2.295358, relative error: 3.400819e-08\n",
      "numerical: -1.002319 analytic: -1.002319, relative error: 1.387042e-08\n",
      "numerical: -2.153450 analytic: -2.153450, relative error: 1.145065e-08\n",
      "numerical: -0.979048 analytic: -0.979048, relative error: 6.682759e-08\n",
      "numerical: -3.166235 analytic: -3.166235, relative error: 1.019865e-08\n",
      "numerical: 2.282864 analytic: 2.282864, relative error: 4.014824e-08\n",
      "numerical: -0.643835 analytic: -0.643835, relative error: 3.130159e-09\n",
      "numerical: 0.662290 analytic: 0.662290, relative error: 1.120880e-07\n",
      "numerical: -0.099794 analytic: -0.099794, relative error: 2.951820e-07\n",
      "numerical: 3.564608 analytic: 3.564608, relative error: 1.863112e-08\n",
      "numerical: 1.281402 analytic: 1.281402, relative error: 2.878224e-08\n"
     ]
    }
   ],
   "source": [
    "# Complete the implementation of softmax_loss_naive and implement a (naive)\n",
    "# version of the gradient that uses nested loops.\n",
    "loss, grad = softmax_loss_naive(W, X_dev, y_dev, 0.0)\n",
    "\n",
    "# As we did for the SVM, use numeric gradient checking as a debugging tool.\n",
    "# The numeric gradient should be close to the analytic gradient.\n",
    "from cs231n.gradient_check import grad_check_sparse\n",
    "f = lambda w: softmax_loss_naive(w, X_dev, y_dev, 0.0)[0]\n",
    "grad_numerical = grad_check_sparse(f, W, grad, 10)\n",
    "\n",
    "# similar to SVM case, do another gradient check with regularization\n",
    "loss, grad = softmax_loss_naive(W, X_dev, y_dev, 1e2)\n",
    "f = lambda w: softmax_loss_naive(w, X_dev, y_dev, 1e2)[0]\n",
    "grad_numerical = grad_check_sparse(f, W, grad, 10)"
   ]
  },
  {
   "cell_type": "code",
   "execution_count": 231,
   "metadata": {
    "collapsed": false
   },
   "outputs": [
    {
     "name": "stdout",
     "output_type": "stream",
     "text": [
      "naive loss: 2.343437e+00 computed in 0.140706s\n",
      "vectorized loss: 2.343437e+00 computed in 0.003140s\n",
      "Loss difference: 0.000000\n",
      "Gradient difference: 0.000000\n"
     ]
    }
   ],
   "source": [
    "# Now that we have a naive implementation of the softmax loss function and its gradient,\n",
    "# implement a vectorized version in softmax_loss_vectorized.\n",
    "# The two versions should compute the same results, but the vectorized version should be\n",
    "# much faster.\n",
    "tic = time.time()\n",
    "loss_naive, grad_naive = softmax_loss_naive(W, X_dev, y_dev, 0.00001)\n",
    "toc = time.time()\n",
    "print 'naive loss: %e computed in %fs' % (loss_naive, toc - tic)\n",
    "\n",
    "from cs231n.classifiers.softmax import softmax_loss_vectorized\n",
    "tic = time.time()\n",
    "loss_vectorized, grad_vectorized = softmax_loss_vectorized(W, X_dev, y_dev, 0.00001)\n",
    "toc = time.time()\n",
    "print 'vectorized loss: %e computed in %fs' % (loss_vectorized, toc - tic)\n",
    "\n",
    "# As we did for the SVM, we use the Frobenius norm to compare the two versions\n",
    "# of the gradient.\n",
    "grad_difference = np.linalg.norm(grad_naive - grad_vectorized, ord='fro')\n",
    "print 'Loss difference: %f' % np.abs(loss_naive - loss_vectorized)\n",
    "print 'Gradient difference: %f' % grad_difference"
   ]
  },
  {
   "cell_type": "code",
   "execution_count": 241,
   "metadata": {
    "collapsed": false,
    "scrolled": true
   },
   "outputs": [
    {
     "name": "stdout",
     "output_type": "stream",
     "text": [
      "[  1.00000000e-10   1.66810054e-08   2.78255940e-06   4.64158883e-04\n",
      "   7.74263683e-02   1.29154967e+01   2.15443469e+03   3.59381366e+05\n",
      "   5.99484250e+07   1.00000000e+10]\n",
      "lr 1.000000e-10 reg 1.000000e-03 train accuracy: 0.206347 val accuracy: 0.211000\n",
      "lr 1.000000e-10 reg 1.000000e-02 train accuracy: 0.198061 val accuracy: 0.213000\n",
      "lr 1.000000e-10 reg 1.000000e-01 train accuracy: 0.185673 val accuracy: 0.217000\n",
      "lr 1.000000e-10 reg 1.000000e+00 train accuracy: 0.193408 val accuracy: 0.194000\n",
      "lr 1.000000e-10 reg 1.000000e+01 train accuracy: 0.208245 val accuracy: 0.219000\n",
      "lr 1.000000e-10 reg 1.000000e+02 train accuracy: 0.205469 val accuracy: 0.203000\n",
      "lr 1.000000e-10 reg 1.000000e+03 train accuracy: 0.210959 val accuracy: 0.212000\n",
      "lr 1.000000e-10 reg 1.000000e+04 train accuracy: 0.218367 val accuracy: 0.229000\n",
      "lr 1.000000e-10 reg 1.000000e+05 train accuracy: 0.313612 val accuracy: 0.322000\n",
      "lr 1.000000e-10 reg 1.000000e+06 train accuracy: 0.238061 val accuracy: 0.238000\n",
      "lr 1.668101e-08 reg 1.000000e-03 train accuracy: 0.212449 val accuracy: 0.227000\n",
      "lr 1.668101e-08 reg 1.000000e-02 train accuracy: 0.191204 val accuracy: 0.200000\n",
      "lr 1.668101e-08 reg 1.000000e-01 train accuracy: 0.201673 val accuracy: 0.204000\n",
      "lr 1.668101e-08 reg 1.000000e+00 train accuracy: 0.197245 val accuracy: 0.194000\n",
      "lr 1.668101e-08 reg 1.000000e+01 train accuracy: 0.209184 val accuracy: 0.206000\n",
      "lr 1.668101e-08 reg 1.000000e+02 train accuracy: 0.211939 val accuracy: 0.229000\n",
      "lr 1.668101e-08 reg 1.000000e+03 train accuracy: 0.207122 val accuracy: 0.221000\n",
      "lr 1.668101e-08 reg 1.000000e+04 train accuracy: 0.219796 val accuracy: 0.230000\n",
      "lr 1.668101e-08 reg 1.000000e+05 train accuracy: 0.300163 val accuracy: 0.313000\n",
      "lr 1.668101e-08 reg 1.000000e+06 train accuracy: 0.259347 val accuracy: 0.279000\n",
      "lr 2.782559e-06 reg 1.000000e-03 train accuracy: 0.209510 val accuracy: 0.193000\n",
      "lr 2.782559e-06 reg 1.000000e-02 train accuracy: 0.203592 val accuracy: 0.216000\n",
      "lr 2.782559e-06 reg 1.000000e-01 train accuracy: 0.199531 val accuracy: 0.204000\n",
      "lr 2.782559e-06 reg 1.000000e+00 train accuracy: 0.206490 val accuracy: 0.214000\n",
      "lr 2.782559e-06 reg 1.000000e+01 train accuracy: 0.198714 val accuracy: 0.195000\n",
      "lr 2.782559e-06 reg 1.000000e+02 train accuracy: 0.202490 val accuracy: 0.206000\n",
      "lr 2.782559e-06 reg 1.000000e+03 train accuracy: 0.192224 val accuracy: 0.191000\n",
      "lr 2.782559e-06 reg 1.000000e+04 train accuracy: 0.220980 val accuracy: 0.245000\n",
      "lr 2.782559e-06 reg 1.000000e+05 train accuracy: 0.300776 val accuracy: 0.312000\n",
      "lr 2.782559e-06 reg 1.000000e+06 train accuracy: 0.239816 val accuracy: 0.228000\n",
      "lr 4.641589e-04 reg 1.000000e-03 train accuracy: 0.207245 val accuracy: 0.225000\n",
      "lr 4.641589e-04 reg 1.000000e-02 train accuracy: 0.200327 val accuracy: 0.205000\n",
      "lr 4.641589e-04 reg 1.000000e-01 train accuracy: 0.200612 val accuracy: 0.224000\n",
      "lr 4.641589e-04 reg 1.000000e+00 train accuracy: 0.200020 val accuracy: 0.189000\n",
      "lr 4.641589e-04 reg 1.000000e+01 train accuracy: 0.203980 val accuracy: 0.208000\n",
      "lr 4.641589e-04 reg 1.000000e+02 train accuracy: 0.210122 val accuracy: 0.219000\n",
      "lr 4.641589e-04 reg 1.000000e+03 train accuracy: 0.215408 val accuracy: 0.206000\n",
      "lr 4.641589e-04 reg 1.000000e+04 train accuracy: 0.228735 val accuracy: 0.224000\n",
      "lr 4.641589e-04 reg 1.000000e+05 train accuracy: 0.301449 val accuracy: 0.312000\n",
      "lr 4.641589e-04 reg 1.000000e+06 train accuracy: 0.253612 val accuracy: 0.262000\n",
      "lr 7.742637e-02 reg 1.000000e-03 train accuracy: 0.188469 val accuracy: 0.192000\n",
      "lr 7.742637e-02 reg 1.000000e-02 train accuracy: 0.206612 val accuracy: 0.220000\n",
      "lr 7.742637e-02 reg 1.000000e-01 train accuracy: 0.189878 val accuracy: 0.191000\n",
      "lr 7.742637e-02 reg 1.000000e+00 train accuracy: 0.203204 val accuracy: 0.221000\n",
      "lr 7.742637e-02 reg 1.000000e+01 train accuracy: 0.210224 val accuracy: 0.237000\n",
      "lr 7.742637e-02 reg 1.000000e+02 train accuracy: 0.199878 val accuracy: 0.202000\n",
      "lr 7.742637e-02 reg 1.000000e+03 train accuracy: 0.193959 val accuracy: 0.212000\n",
      "lr 7.742637e-02 reg 1.000000e+04 train accuracy: 0.212571 val accuracy: 0.218000\n",
      "lr 7.742637e-02 reg 1.000000e+05 train accuracy: 0.296653 val accuracy: 0.311000\n",
      "lr 7.742637e-02 reg 1.000000e+06 train accuracy: 0.254143 val accuracy: 0.257000\n",
      "lr 1.291550e+01 reg 1.000000e-03 train accuracy: 0.205388 val accuracy: 0.237000\n",
      "lr 1.291550e+01 reg 1.000000e-02 train accuracy: 0.204306 val accuracy: 0.212000\n",
      "lr 1.291550e+01 reg 1.000000e-01 train accuracy: 0.208612 val accuracy: 0.210000\n",
      "lr 1.291550e+01 reg 1.000000e+00 train accuracy: 0.202102 val accuracy: 0.218000\n",
      "lr 1.291550e+01 reg 1.000000e+01 train accuracy: 0.196551 val accuracy: 0.196000\n",
      "lr 1.291550e+01 reg 1.000000e+02 train accuracy: 0.201469 val accuracy: 0.204000\n",
      "lr 1.291550e+01 reg 1.000000e+03 train accuracy: 0.201531 val accuracy: 0.196000\n",
      "lr 1.291550e+01 reg 1.000000e+04 train accuracy: 0.221918 val accuracy: 0.236000\n",
      "lr 1.291550e+01 reg 1.000000e+05 train accuracy: 0.294224 val accuracy: 0.304000\n",
      "lr 1.291550e+01 reg 1.000000e+06 train accuracy: 0.258020 val accuracy: 0.288000\n",
      "lr 2.154435e+03 reg 1.000000e-03 train accuracy: 0.201571 val accuracy: 0.205000\n",
      "lr 2.154435e+03 reg 1.000000e-02 train accuracy: 0.194571 val accuracy: 0.191000\n",
      "lr 2.154435e+03 reg 1.000000e-01 train accuracy: 0.198551 val accuracy: 0.202000\n",
      "lr 2.154435e+03 reg 1.000000e+00 train accuracy: 0.203980 val accuracy: 0.217000\n",
      "lr 2.154435e+03 reg 1.000000e+01 train accuracy: 0.196327 val accuracy: 0.211000\n",
      "lr 2.154435e+03 reg 1.000000e+02 train accuracy: 0.194102 val accuracy: 0.217000\n",
      "lr 2.154435e+03 reg 1.000000e+03 train accuracy: 0.195429 val accuracy: 0.188000\n",
      "lr 2.154435e+03 reg 1.000000e+04 train accuracy: 0.227102 val accuracy: 0.216000\n",
      "lr 2.154435e+03 reg 1.000000e+05 train accuracy: 0.312408 val accuracy: 0.330000\n",
      "lr 2.154435e+03 reg 1.000000e+06 train accuracy: 0.235653 val accuracy: 0.232000\n",
      "lr 3.593814e+05 reg 1.000000e-03 train accuracy: 0.202347 val accuracy: 0.179000\n",
      "lr 3.593814e+05 reg 1.000000e-02 train accuracy: 0.197224 val accuracy: 0.202000\n",
      "lr 3.593814e+05 reg 1.000000e-01 train accuracy: 0.199959 val accuracy: 0.217000\n",
      "lr 3.593814e+05 reg 1.000000e+00 train accuracy: 0.204327 val accuracy: 0.193000\n",
      "lr 3.593814e+05 reg 1.000000e+01 train accuracy: 0.214041 val accuracy: 0.200000\n",
      "lr 3.593814e+05 reg 1.000000e+02 train accuracy: 0.199878 val accuracy: 0.209000\n",
      "lr 3.593814e+05 reg 1.000000e+03 train accuracy: 0.204878 val accuracy: 0.212000\n",
      "lr 3.593814e+05 reg 1.000000e+04 train accuracy: 0.210408 val accuracy: 0.217000\n",
      "lr 3.593814e+05 reg 1.000000e+05 train accuracy: 0.310041 val accuracy: 0.325000\n",
      "lr 3.593814e+05 reg 1.000000e+06 train accuracy: 0.253673 val accuracy: 0.263000\n",
      "lr 5.994843e+07 reg 1.000000e-03 train accuracy: 0.208020 val accuracy: 0.198000\n",
      "lr 5.994843e+07 reg 1.000000e-02 train accuracy: 0.198408 val accuracy: 0.207000\n",
      "lr 5.994843e+07 reg 1.000000e-01 train accuracy: 0.189959 val accuracy: 0.186000\n",
      "lr 5.994843e+07 reg 1.000000e+00 train accuracy: 0.190388 val accuracy: 0.205000\n",
      "lr 5.994843e+07 reg 1.000000e+01 train accuracy: 0.194592 val accuracy: 0.185000\n",
      "lr 5.994843e+07 reg 1.000000e+02 train accuracy: 0.194041 val accuracy: 0.207000\n",
      "lr 5.994843e+07 reg 1.000000e+03 train accuracy: 0.197061 val accuracy: 0.191000\n",
      "lr 5.994843e+07 reg 1.000000e+04 train accuracy: 0.216980 val accuracy: 0.219000\n",
      "lr 5.994843e+07 reg 1.000000e+05 train accuracy: 0.312898 val accuracy: 0.322000\n",
      "lr 5.994843e+07 reg 1.000000e+06 train accuracy: 0.248816 val accuracy: 0.273000\n",
      "lr 1.000000e+10 reg 1.000000e-03 train accuracy: 0.207020 val accuracy: 0.227000\n",
      "lr 1.000000e+10 reg 1.000000e-02 train accuracy: 0.193020 val accuracy: 0.196000\n",
      "lr 1.000000e+10 reg 1.000000e-01 train accuracy: 0.195265 val accuracy: 0.225000\n",
      "lr 1.000000e+10 reg 1.000000e+00 train accuracy: 0.199633 val accuracy: 0.204000\n",
      "lr 1.000000e+10 reg 1.000000e+01 train accuracy: 0.197898 val accuracy: 0.217000\n",
      "lr 1.000000e+10 reg 1.000000e+02 train accuracy: 0.209449 val accuracy: 0.186000\n",
      "lr 1.000000e+10 reg 1.000000e+03 train accuracy: 0.197959 val accuracy: 0.209000\n",
      "lr 1.000000e+10 reg 1.000000e+04 train accuracy: 0.215020 val accuracy: 0.235000\n",
      "lr 1.000000e+10 reg 1.000000e+05 train accuracy: 0.297918 val accuracy: 0.322000\n",
      "lr 1.000000e+10 reg 1.000000e+06 train accuracy: 0.251163 val accuracy: 0.241000\n",
      "best validation accuracy achieved during cross-validation: 0.330000\n"
     ]
    }
   ],
   "source": [
    "# Use the validation set to tune hyperparameters (regularization strength and\n",
    "# learning rate). You should experiment with different ranges for the learning\n",
    "# rates and regularization strengths; if you are careful you should be able to\n",
    "# get a classification accuracy of over 0.35 on the validation set.\n",
    "from cs231n.classifiers import Softmax\n",
    "results = {}\n",
    "best_val = -1\n",
    "best_softmax = None\n",
    "#learning_rates = [1e-7, 1e-5,1e-3,1e2,1e1,1e-10]\n",
    "#regularization_strengths = [5e4, 1e5,1e3,1e1,3e1,3e5,5e5,2e3,2e1,2e5,2e7,2e8,2e9,2e6,2e10,2e4,1e2,1e4,4e1,4e2,4e5,4e7,4e4]\n",
    "learning_rates = np.logspace(-10, 10, 10) # np.logspace(-10, 10, 8) #-10, -9, -8, -7, -6, -5, -4\n",
    "regularization_strengths = [1e5,1e7]\n",
    "print learning_rates\n",
    "\n",
    "################################################################################\n",
    "# TODO:                                                                        #\n",
    "# Use the validation set to set the learning rate and regularization strength. #\n",
    "# This should be identical to the validation that you did for the SVM; save    #\n",
    "# the best trained softmax classifer in best_softmax.                          #\n",
    "################################################################################\n",
    "\n",
    "for learning_rate in learning_rates:\n",
    "    for regz in regularization_strengths:\n",
    "        softmax=Softmax()\n",
    "        softmax.train(X_train,y_train,learnin_rate,regz)\n",
    "        pred_y_train = softmax.predict(X_train)\n",
    "        training_accuracy=np.mean(y_train==pred_y_train)\n",
    "        #print training_accuracy\n",
    "        pred_y_validation=softmax.predict(X_val) #checking prediction to validation set and using it to tune it\n",
    "        validation_accuracy=np.mean(pred_y_validation==y_val)\n",
    "        results[(learning_rate,regz)]=(training_accuracy,validation_accuracy)\n",
    "        \n",
    "        if validation_accuracy>best_val:\n",
    "            best_val=validation_accuracy\n",
    "            best_softmax=softmax\n",
    "\n",
    "\n",
    "pass\n",
    "################################################################################\n",
    "#                              END OF YOUR CODE                                #\n",
    "################################################################################\n",
    "    \n",
    "# Print out results.\n",
    "for lr, reg in sorted(results):\n",
    "    train_accuracy, val_accuracy = results[(lr, reg)]\n",
    "    print 'lr %e reg %e train accuracy: %f val accuracy: %f' % (\n",
    "                lr, reg, train_accuracy, val_accuracy)\n",
    "    \n",
    "print 'best validation accuracy achieved during cross-validation: %f' % best_val"
   ]
  },
  {
   "cell_type": "code",
   "execution_count": 242,
   "metadata": {
    "collapsed": false
   },
   "outputs": [
    {
     "name": "stdout",
     "output_type": "stream",
     "text": [
      "softmax on raw pixels final test set accuracy: 0.322000\n"
     ]
    }
   ],
   "source": [
    "# evaluate on test set\n",
    "# Evaluate the best softmax on test set\n",
    "y_test_pred = best_softmax.predict(X_test)\n",
    "test_accuracy = np.mean(y_test == y_test_pred)\n",
    "print 'softmax on raw pixels final test set accuracy: %f' % (test_accuracy, )"
   ]
  },
  {
   "cell_type": "code",
   "execution_count": 243,
   "metadata": {
    "collapsed": false
   },
   "outputs": [
    {
     "data": {
      "image/png": "[encoded data removed]",
      "text/plain": [
       "<matplotlib.figure.Figure at 0x116755f50>"
      ]
     },
     "metadata": {},
     "output_type": "display_data"
    }
   ],
   "source": [
    "# Visualize the learned weights for each class\n",
    "w = best_softmax.W[:-1,:] # strip out the bias\n",
    "w = w.reshape(32, 32, 3, 10)\n",
    "\n",
    "w_min, w_max = np.min(w), np.max(w)\n",
    "\n",
    "classes = ['plane', 'car', 'bird', 'cat', 'deer', 'dog', 'frog', 'horse', 'ship', 'truck']\n",
    "for i in xrange(10):\n",
    "  plt.subplot(2, 5, i + 1)\n",
    "  \n",
    "  # Rescale the weights to be between 0 and 255\n",
    "  wimg = 255.0 * (w[:, :, :, i].squeeze() - w_min) / (w_max - w_min)\n",
    "  plt.imshow(wimg.astype('uint8'))\n",
    "  plt.axis('off')\n",
    "  plt.title(classes[i])"
   ]
  }
 ],
 "metadata": {
  "kernelspec": {
   "display_name": "Python 2",
   "language": "python",
   "name": "python2"
  },
  "language_info": {
   "codemirror_mode": {
    "name": "ipython",
    "version": 2
   },
   "file_extension": ".py",
   "mimetype": "text/x-python",
   "name": "python",
   "nbconvert_exporter": "python",
   "pygments_lexer": "ipython2",
   "version": "2.7.12"
  }
 },
 "nbformat": 4,
 "nbformat_minor": 0
}
